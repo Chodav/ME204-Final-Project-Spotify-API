{
 "cells": [
  {
   "cell_type": "markdown",
   "metadata": {},
   "source": [
    "LSE Data Science Institute | ME204 (2024) | Final Project\n",
    "\n",
    "# 🎼 Building Albums and Track Audio Features Databases from Spotify API \n",
    "\n",
    "<span style=\"display: inline-block; padding: 0 10px; font-size: 1.15em;line-height: 1.5em; white-space: nowrap; border: 1px solid #E69F25; border-radius: .5em; color: #fcfcfc; background-color: #E69F25; vertical-align: middle;font-weight: 600 !important;\">Data Base Building NOTEBOOK</span>\n",
    "\n",
    "**DATE:** 26 July 2024\n",
    "\n",
    "**AUTHOR:** [David Cho](https://github.com/LSE-ME204/me204-2024-project-Chodav?tab=readme-ov-file)\n",
    "\n",
    "-----\n"
   ]
  },
  {
   "cell_type": "markdown",
   "metadata": {},
   "source": [
    "# ⚙️ **Setup**"
   ]
  },
  {
   "cell_type": "markdown",
   "metadata": {},
   "source": [
    "**IMPORTS:**"
   ]
  },
  {
   "cell_type": "code",
   "execution_count": 1,
   "metadata": {},
   "outputs": [],
   "source": [
    "import os\n",
    "import sqlite3\n",
    "\n",
    "import pandas as pd\n",
    "\n",
    "import re\n",
    "import json"
   ]
  },
  {
   "cell_type": "markdown",
   "metadata": {},
   "source": [
    "# **🏭 1. Converting jsons into pd.DataFrames**"
   ]
  },
  {
   "cell_type": "code",
   "execution_count": 2,
   "metadata": {},
   "outputs": [],
   "source": [
    "def find_files_with_string(directory, search_string):\n",
    "    \"\"\"\n",
    "    Find all files with a certain string.\n",
    "\n",
    "    Parameters:\n",
    "    directory (str): The directory where the files are stored.\n",
    "    search_string (str): The string in a file name to be found.\n",
    "\n",
    "    Returns:\n",
    "    list: Collection of all the file paths containing the search_string.\n",
    "    \"\"\"\n",
    "\n",
    "    # List to store the paths of matching files\n",
    "    matching_files = []\n",
    "\n",
    "    # Walk through the directory and its subdirectories\n",
    "    for root, dirs, files in os.walk(directory):\n",
    "        for file in files:\n",
    "            if search_string in file:\n",
    "                # Append the full path of the matching file\n",
    "                full_path = os.path.join(root, file)\n",
    "                matching_files.append(full_path)\n",
    "    \n",
    "    return matching_files"
   ]
  },
  {
   "cell_type": "markdown",
   "metadata": {},
   "source": [
    "## **Albums**"
   ]
  },
  {
   "cell_type": "code",
   "execution_count": 3,
   "metadata": {},
   "outputs": [],
   "source": [
    "directory = '../data/raw/'\n",
    "search_string = 'albums'\n",
    "\n",
    "album_paths = find_files_with_string(directory, search_string)"
   ]
  },
  {
   "cell_type": "code",
   "execution_count": 4,
   "metadata": {},
   "outputs": [],
   "source": [
    "def convert_albums_json(file_path, genre, artist_name):\n",
    "    \"\"\"\n",
    "    Convert the album json into a pandas df.\n",
    "\n",
    "    Parameters:\n",
    "    file_path (str): The path of the file.\n",
    "    genre (str): The genre of the artist.\n",
    "    artist_name (str): The name of the artist.\n",
    "\n",
    "    Returns:\n",
    "    pd.DataFrame : A data frame of an artist's albums information.\n",
    "    \"\"\"\n",
    "\n",
    "    df = pd.read_json(file_path)\n",
    "\n",
    "    df['genres'] = genre \n",
    "    df['artists'] = artist_name\n",
    "    df['available_markets'] = df['available_markets'].apply(lambda x: len(x))\n",
    "    df.drop(columns=['album_type', 'copyrights', 'external_ids', 'external_urls', 'href', 'images', 'label', 'tracks', 'type', 'uri'], inplace=True)\n",
    "    df.rename(columns={'artists': 'artist', 'genres': 'genre'}, inplace=True)\n",
    "\n",
    "    return df\n",
    "\n",
    "def format_artist_name(file_path, mode):\n",
    "    \"\"\"\n",
    "    Extract the artist name from the file name.\n",
    "\n",
    "    Parameters:\n",
    "    file_path (str): The path of the file.\n",
    "    mode (str): The type of collection the json holds.\n",
    "\n",
    "    Returns:\n",
    "    str : The name of the artist.\n",
    "    \"\"\"\n",
    "\n",
    "    if mode == 'album':\n",
    "        # Extract the artist name from the file path\n",
    "        artist_name_match = re.search(r'/raw/([^/]+)_albums\\.json$', file_path)\n",
    "        \n",
    "        if artist_name_match:\n",
    "            artist_name = artist_name_match.group(1)\n",
    "            # Replace underscores with spaces and capitalize properly\n",
    "            artist_name = artist_name.replace('_', ' ').title()\n",
    "            return artist_name\n",
    "        else:\n",
    "            return 'Unknown Artist'\n",
    "    \n",
    "    elif mode == 'audio5':\n",
    "        # Get the base name of the file without the extension\n",
    "        base_name = os.path.basename(file_path)\n",
    "        # Remove known suffix parts from the base name\n",
    "        name_part = base_name.replace('_5audio_features.json', '').replace('_albums.json', '')\n",
    "        # Replace underscores with spaces and capitalize each word\n",
    "        artist_name = ' '.join(word.capitalize() for word in name_part.split('_'))\n",
    "\n",
    "        return artist_name\n",
    "    \n",
    "    elif mode == 'track5':\n",
    "        # Get the base name of the file without the extension\n",
    "        base_name = os.path.basename(file_path)\n",
    "        # Remove known suffix parts from the base name\n",
    "        name_part = base_name.replace('_5track_info.json', '').replace('_albums.json', '')\n",
    "        # Replace underscores with spaces and capitalize each word\n",
    "        artist_name = ' '.join(word.capitalize() for word in name_part.split('_'))\n",
    "\n",
    "        return artist_name"
   ]
  },
  {
   "cell_type": "code",
   "execution_count": null,
   "metadata": {},
   "outputs": [],
   "source": [
    "classical_artists = ['London Symphony Orchestra', 'Johann Sebastian Bach', 'Ludwig Van Beethoven', 'Wolfgang Amadeus Mozart',\n",
    "                    'Frederic Chopin', 'Pyotr Ilyich Tchaikovsky', 'Antonio Vivaldi', 'Claude Debussy', 'Erik Satie', 'Camille Saint-Saens']\n",
    "\n",
    "jazz_artists = ['Ella Fitzgerald', 'Stan Getz', 'Count Basie', 'Billie Holiday', 'Chet Baker', 'Miles Davis', 'John Coltrane',\n",
    "                'The Dave Brubeck Quartet', 'Duke Ellington', 'Kamasi Washington']\n",
    "\n",
    "indie_pop_artists = ['Chappell Roan', 'Clairo', 'Beabadoobee', 'Girl In Red', 'Phoebe Bridgers', 'Suki Waterhouse', 'Sufjan Stevens',\n",
    "                    'Lizzy Mcalpine', 'Maggie Rogers', 'Beach Bunny']\n",
    "\n",
    "gen_z_artists = ['Stephen Sanchez', 'David Kushner', 'Em Beihold', 'Laufey', 'Alex Warren', 'Matt Hansen', 'Lauren Spencer Smith',\n",
    "                'Clinton Kane', 'Jax', 'Anson Seabra']\n",
    "\n",
    "def get_artist_genre(artist_name):\n",
    "    \"\"\"\n",
    "    Return the genre associated with an artist.\n",
    "\n",
    "    Parameters:\n",
    "    artist_name (str): The name of an artist.\n",
    "\n",
    "    Returns:\n",
    "    str : The genre associated with the artist.\n",
    "    \"\"\"\n",
    "\n",
    "    if artist_name in classical_artists:\n",
    "        return 'Classical'\n",
    "    elif artist_name in jazz_artists:\n",
    "        return 'Jazz'\n",
    "    elif artist_name in indie_pop_artists:\n",
    "        return 'Indie Pop'\n",
    "    elif artist_name in gen_z_artists:\n",
    "        return 'Gen Z'\n",
    "    else:\n",
    "        return 'Unknown Genre'"
   ]
  },
  {
   "cell_type": "code",
   "execution_count": 5,
   "metadata": {},
   "outputs": [],
   "source": [
    "albums_df = pd.DataFrame()\n",
    "\n",
    "for album_path in album_paths:\n",
    "    artist_name = format_artist_name(album_path, 'album')\n",
    "    genre = get_artist_genre(artist_name)\n",
    "    album_df = convert_albums_json(album_path, genre, artist_name)\n",
    "    albums_df = pd.concat([albums_df, album_df], axis=0, ignore_index=True)\n",
    "\n",
    "# reconvert names\n",
    "albums_df.loc[albums_df['artist'] == 'Girl In Red', 'artist'] = 'girl in red'\n",
    "albums_df.loc[albums_df['artist'] == 'Beabadoobee', 'artist'] = 'beabadoobee'\n",
    "albums_df.loc[albums_df['artist'] == 'Camille Saint-Saens', 'artist'] = 'Camille Saint-Saëns'\n",
    "albums_df.loc[albums_df['artist'] == 'Frederic Chopin', 'artist'] = 'Frédéric Chopin'\n",
    "albums_df.loc[albums_df['artist'] == 'Lizzy Mcalpine', 'artist'] = 'Lizzy McAlpine'\n",
    "\n",
    "# Clean release dates\n",
    "albums_df['release_year'] = albums_df['release_date'].apply(lambda x: int(x[:4]))\n",
    "albums_df = albums_df.drop(columns=['release_date', 'release_date_precision'])\n"
   ]
  },
  {
   "cell_type": "markdown",
   "metadata": {},
   "source": [
    "## **Artists Info**"
   ]
  },
  {
   "cell_type": "code",
   "execution_count": 7,
   "metadata": {},
   "outputs": [],
   "source": [
    "directory = '../data/raw/'\n",
    "search_string = 'info'\n",
    "\n",
    "info_paths = find_files_with_string(directory, search_string)\n",
    "info_paths = [path for path in info_paths if '5' not in path]"
   ]
  },
  {
   "cell_type": "code",
   "execution_count": 8,
   "metadata": {},
   "outputs": [],
   "source": [
    "def convert_info_jsons(file_path):\n",
    "    \"\"\"\n",
    "    Read an info json into a list.\n",
    "\n",
    "    Parameters:\n",
    "    file_path (str): The path of the file.\n",
    "\n",
    "    Returns:\n",
    "    list : A json nested as a list of the artist information.\n",
    "    \"\"\"\n",
    "\n",
    "    with open(file_path, 'r') as file:\n",
    "        data = json.load(file)\n",
    "\n",
    "    artist_data = {\n",
    "        'name' : data['name'],\n",
    "        'popularity' : data['popularity'],\n",
    "        'followers' : data['followers']['total'],\n",
    "        'id' : data['id'],\n",
    "        'genres' : data['genres']\n",
    "    }\n",
    "\n",
    "    return [artist_data]\n"
   ]
  },
  {
   "cell_type": "code",
   "execution_count": 9,
   "metadata": {},
   "outputs": [],
   "source": [
    "infos_df = pd.DataFrame()\n",
    "\n",
    "for file_path in info_paths:\n",
    "    info_df = pd.DataFrame(convert_info_jsons(file_path))\n",
    "    infos_df = pd.concat([infos_df, info_df], axis=0, ignore_index=True)\n",
    "\n",
    "infos_df.rename(columns={'name': 'artist'}, inplace=True)"
   ]
  },
  {
   "cell_type": "markdown",
   "metadata": {},
   "source": [
    "## **Audio Features (recent 5 albums)**"
   ]
  },
  {
   "cell_type": "code",
   "execution_count": 35,
   "metadata": {},
   "outputs": [],
   "source": [
    "def convert_jsons(file_path):\n",
    "    \"\"\"\n",
    "    Convert a json into a pandas df.\n",
    "\n",
    "    Parameters:\n",
    "    file_path (str): The path of the file.\n",
    "\n",
    "    Returns:\n",
    "    pd.DataFrame : The json converted as a df.\n",
    "    \"\"\"\n",
    "\n",
    "    df = pd.read_json(file_path)\n",
    "    return df"
   ]
  },
  {
   "cell_type": "code",
   "execution_count": 15,
   "metadata": {},
   "outputs": [
    {
     "name": "stdout",
     "output_type": "stream",
     "text": [
      "['../data/raw/rachmaninoff_5audio_features.json', '../data/raw/adele_5audio_features.json', '../data/raw/billie_holiday_5audio_features.json', '../data/raw/ella_fitzgerald_5audio_features.json', '../data/raw/laufey_5audio_features.json', '../data/raw/frederic_chopin_5audio_features.json', '../data/raw/chet_baker_5audio_features.json', '../data/raw/mendelssohn_5audio_features.json', '../data/raw/taylor_swift_5audio_features.json', '../data/raw/nora_jones_5audio_features.json', '../data/raw/ravel_5audio_features.json']\n"
     ]
    }
   ],
   "source": [
    "directory = '../data/raw/'\n",
    "search_string = '5audio'\n",
    "\n",
    "audio_paths = find_files_with_string(directory, search_string)"
   ]
  },
  {
   "cell_type": "code",
   "execution_count": 38,
   "metadata": {},
   "outputs": [],
   "source": [
    "audios5_df = pd.DataFrame()\n",
    "\n",
    "for file_path in audio_paths:\n",
    "    artist_name = format_artist_name(file_path, 'audio5')\n",
    "    audio5_df = convert_jsons(file_path)\n",
    "    audio5_df['artist'] = artist_name\n",
    "    \n",
    "    audios5_df = pd.concat([audios5_df, audio5_df], axis=0, ignore_index=True)\n",
    "\n",
    "# Reconvert names\n",
    "audios5_df.loc[audios5_df['artist'] == 'Frederic Chopin', 'artist'] = 'Frédéric Chopin'\n",
    "audios5_df.loc[audios5_df['artist'] == 'Dvorak', 'artist'] = 'Antonín Dvořák'\n",
    "audios5_df.loc[audios5_df['artist'] == 'Mendelssohn', 'artist'] = 'Felix Mendelssohn'\n",
    "audios5_df.loc[audios5_df['artist'] == 'Rachmaninoff', 'artist'] = 'Sergei Rachmaninoff'\n",
    "audios5_df.loc[audios5_df['artist'] == 'Ravel', 'artist'] = 'Maurice Ravel'\n",
    "audios5_df.loc[audios5_df['artist'] == 'Scriabin', 'artist'] = 'Alexander Scriabin'\n",
    "audios5_df.loc[audios5_df['artist'] == 'Shostakovich', 'artist'] = 'Dmitri Shostakovich'\n",
    "\n",
    "# Clean duration\n",
    "audios5_df['duration_s'] = audios5_df['duration_ms'].apply(lambda x: x // 1000)\n",
    "\n",
    "# Drop 'duration_ms' column\n",
    "audios5_df = audios5_df.drop(columns=['duration_ms'])"
   ]
  },
  {
   "cell_type": "markdown",
   "metadata": {},
   "source": [
    "## **Track Info (recent 50)**"
   ]
  },
  {
   "cell_type": "code",
   "execution_count": 19,
   "metadata": {},
   "outputs": [
    {
     "name": "stdout",
     "output_type": "stream",
     "text": [
      "['../data/raw/ella_fitzgerald_5track_info.json', '../data/raw/frederic_chopin_5track_info.json', '../data/raw/taylor_swift_5track_info.json', '../data/raw/chet_baker_5track_info.json', '../data/raw/adele_5track_info.json', '../data/raw/nora_jones_5track_info.json', '../data/raw/laufey_5track_info.json', '../data/raw/mendelssohn_5track_info.json', '../data/raw/ravel_5track_info.json', '../data/raw/rachmaninoff_5track_info.json', '../data/raw/billie_holiday_5track_info.json']\n"
     ]
    }
   ],
   "source": [
    "directory = '../data/raw/'\n",
    "search_string = '5track'\n",
    "\n",
    "audio_paths = find_files_with_string(directory, search_string)"
   ]
  },
  {
   "cell_type": "code",
   "execution_count": 20,
   "metadata": {},
   "outputs": [],
   "source": [
    "tracks5_df = pd.DataFrame()\n",
    "\n",
    "for file_path in audio_paths:\n",
    "    artist_name = format_artist_name(file_path, \"track5\")\n",
    "    track5_df = convert_jsons(file_path)\n",
    "    track5_df['artist'] = artist_name\n",
    "    \n",
    "    tracks5_df = pd.concat([tracks5_df, track5_df], axis=0, ignore_index=True)\n",
    "\n",
    "tracks5_df.rename(columns={'track_id': 'id'}, inplace=True)\n",
    "\n",
    "# Reconvert names\n",
    "tracks5_df.loc[tracks5_df['artist'] == 'Frederic Chopin', 'artist'] = 'Frédéric Chopin'\n",
    "tracks5_df.loc[tracks5_df['artist'] == 'Dvorak', 'artist'] = 'Antonín Dvořák'\n",
    "tracks5_df.loc[tracks5_df['artist'] == 'Mendelssohn', 'artist'] = 'Felix Mendelssohn'\n",
    "tracks5_df.loc[tracks5_df['artist'] == 'Rachmaninoff', 'artist'] = 'Sergei Rachmaninoff'\n",
    "tracks5_df.loc[tracks5_df['artist'] == 'Ravel', 'artist'] = 'Maurice Ravel'\n",
    "tracks5_df.loc[tracks5_df['artist'] == 'Scriabin', 'artist'] = 'Alexander Scriabin'\n",
    "tracks5_df.loc[tracks5_df['artist'] == 'Shostakovich', 'artist'] = 'Dmitri Shostakovich'\n",
    "\n",
    "# Clean duration\n",
    "tracks5_df['duration_s'] = tracks5_df['duration_ms'].apply(lambda x: x // 1000)\n",
    "\n",
    "# Drop 'duration_ms' column\n",
    "tracks5_df = tracks5_df.drop(columns=['duration_ms'])"
   ]
  },
  {
   "cell_type": "code",
   "execution_count": 21,
   "metadata": {},
   "outputs": [],
   "source": [
    "# Spotify's API association between an artist and their albums is not entirely reliable\n",
    "# The following code makes sure that only tracks with the correct artist are kept\n",
    "tracks5_df.reset_index(drop=True, inplace=True)\n",
    "tracks5_df = tracks5_df[tracks5_df.apply(lambda row: row['artist'] in row['artists'], axis=1)]\n"
   ]
  },
  {
   "cell_type": "markdown",
   "metadata": {
    "vscode": {
     "languageId": "plaintext"
    }
   },
   "source": [
    "# **👨‍💻 2. Setting up a SQLite database**"
   ]
  },
  {
   "cell_type": "code",
   "execution_count": 24,
   "metadata": {},
   "outputs": [],
   "source": [
    "DATA_FOLDER = os.path.join('../data/clean/')"
   ]
  },
  {
   "cell_type": "code",
   "execution_count": 25,
   "metadata": {},
   "outputs": [],
   "source": [
    "%load_ext sql\n",
    "%config SqlMagic.autocommit=True # for engines that do not support autommit"
   ]
  },
  {
   "cell_type": "code",
   "execution_count": 26,
   "metadata": {},
   "outputs": [],
   "source": [
    "# Create a SQLite database in the ../data/ directory if it does not already exist\n",
    "conn = sqlite3.connect(os.path.join(DATA_FOLDER, './spotify.db'))"
   ]
  },
  {
   "cell_type": "code",
   "execution_count": 27,
   "metadata": {},
   "outputs": [
    {
     "data": {
      "text/plain": [
       "<sqlite3.Cursor at 0x2bd05aec0>"
      ]
     },
     "execution_count": 27,
     "metadata": {},
     "output_type": "execute_result"
    }
   ],
   "source": [
    "albums_df = albums_df.drop_duplicates()\n",
    "albums_df.to_sql('albums', conn, if_exists='replace', index=False)\n",
    "\n",
    "# Filtering out albums that have less than popularity rating of 10\n",
    "conn.execute('''\n",
    "DELETE FROM albums\n",
    "WHERE popularity < 6;\n",
    "''')"
   ]
  },
  {
   "cell_type": "code",
   "execution_count": 28,
   "metadata": {},
   "outputs": [
    {
     "data": {
      "text/plain": [
       "49"
      ]
     },
     "execution_count": 28,
     "metadata": {},
     "output_type": "execute_result"
    }
   ],
   "source": [
    "# Convert the 'genres' column to strings as SQLite cannot store lists\n",
    "infos_df['genres'] = infos_df['genres'].apply(lambda x: ', '.join(x))\n",
    "\n",
    "infos_df = infos_df.drop_duplicates()\n",
    "infos_df.to_sql('artists', conn, if_exists='replace', index=False)"
   ]
  },
  {
   "cell_type": "code",
   "execution_count": 29,
   "metadata": {},
   "outputs": [
    {
     "data": {
      "text/plain": [
       "2302"
      ]
     },
     "execution_count": 29,
     "metadata": {},
     "output_type": "execute_result"
    }
   ],
   "source": [
    "audios5_df = audios5_df.drop_duplicates()\n",
    "audios5_df.to_sql('audio_features', conn, if_exists='replace', index=False)"
   ]
  },
  {
   "cell_type": "code",
   "execution_count": 30,
   "metadata": {},
   "outputs": [
    {
     "data": {
      "text/plain": [
       "474"
      ]
     },
     "execution_count": 30,
     "metadata": {},
     "output_type": "execute_result"
    }
   ],
   "source": [
    "tracks5_df = tracks5_df.drop(columns=['artists'])\n",
    "tracks5_df = tracks5_df.drop_duplicates()\n",
    "tracks5_df.to_sql('tracks', conn, if_exists='replace', index=False)"
   ]
  },
  {
   "cell_type": "markdown",
   "metadata": {},
   "source": [
    "# **✈️ 3. Export as CSV files**"
   ]
  },
  {
   "cell_type": "code",
   "execution_count": 32,
   "metadata": {},
   "outputs": [],
   "source": [
    "albums_df = pd.read_sql('SELECT artist, available_markets, genre, name, popularity, total_tracks, release_year FROM albums', conn)\n",
    "\n",
    "artists_df = pd.read_sql('SELECT artist, popularity, followers, genres FROM artists', conn)\n",
    "\n",
    "cleaned_tracks_df = (\n",
    "    pd.read_sql('SELECT id, track_name, popularity, artist FROM tracks', conn)\n",
    "        .merge(pd.read_sql('SELECT id, danceability, energy, key, loudness, speechiness, acousticness, instrumentalness, liveness, valence, tempo FROM audio_features', conn),\n",
    "               left_on='id',\n",
    "               right_on='id',\n",
    "               how='left')\n",
    ")"
   ]
  },
  {
   "cell_type": "code",
   "execution_count": 34,
   "metadata": {},
   "outputs": [],
   "source": [
    "# Save data tables as CSV's to be accessed in NB03\n",
    "albums_df.to_csv('../data/clean/albums.csv', index=False)\n",
    "artists_df.to_csv('../data/clean/artists.csv', index=False)\n",
    "cleaned_tracks_df.to_csv('../data/clean/tracks.csv', index=False)"
   ]
  }
 ],
 "metadata": {
  "kernelspec": {
   "display_name": "base",
   "language": "python",
   "name": "python3"
  },
  "language_info": {
   "codemirror_mode": {
    "name": "ipython",
    "version": 3
   },
   "file_extension": ".py",
   "mimetype": "text/x-python",
   "name": "python",
   "nbconvert_exporter": "python",
   "pygments_lexer": "ipython3",
   "version": "3.12.4"
  }
 },
 "nbformat": 4,
 "nbformat_minor": 2
}
